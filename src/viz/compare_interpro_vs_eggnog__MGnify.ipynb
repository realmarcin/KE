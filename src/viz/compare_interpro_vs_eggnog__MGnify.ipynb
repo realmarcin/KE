{
 "cells": [
  {
   "cell_type": "code",
   "execution_count": 44,
   "metadata": {},
   "outputs": [
    {
     "data": {
      "text/html": [
       "\n",
       "    <div class=\"bk-root\">\n",
       "        <a href=\"https://bokeh.org\" target=\"_blank\" class=\"bk-logo bk-logo-small bk-logo-notebook\"></a>\n",
       "        <span id=\"1349\">Loading BokehJS ...</span>\n",
       "    </div>"
      ]
     },
     "metadata": {},
     "output_type": "display_data"
    },
    {
     "data": {
      "application/javascript": [
       "\n",
       "(function(root) {\n",
       "  function now() {\n",
       "    return new Date();\n",
       "  }\n",
       "\n",
       "  var force = true;\n",
       "\n",
       "  if (typeof root._bokeh_onload_callbacks === \"undefined\" || force === true) {\n",
       "    root._bokeh_onload_callbacks = [];\n",
       "    root._bokeh_is_loading = undefined;\n",
       "  }\n",
       "\n",
       "  var JS_MIME_TYPE = 'application/javascript';\n",
       "  var HTML_MIME_TYPE = 'text/html';\n",
       "  var EXEC_MIME_TYPE = 'application/vnd.bokehjs_exec.v0+json';\n",
       "  var CLASS_NAME = 'output_bokeh rendered_html';\n",
       "\n",
       "  /**\n",
       "   * Render data to the DOM node\n",
       "   */\n",
       "  function render(props, node) {\n",
       "    var script = document.createElement(\"script\");\n",
       "    node.appendChild(script);\n",
       "  }\n",
       "\n",
       "  /**\n",
       "   * Handle when an output is cleared or removed\n",
       "   */\n",
       "  function handleClearOutput(event, handle) {\n",
       "    var cell = handle.cell;\n",
       "\n",
       "    var id = cell.output_area._bokeh_element_id;\n",
       "    var server_id = cell.output_area._bokeh_server_id;\n",
       "    // Clean up Bokeh references\n",
       "    if (id != null && id in Bokeh.index) {\n",
       "      Bokeh.index[id].model.document.clear();\n",
       "      delete Bokeh.index[id];\n",
       "    }\n",
       "\n",
       "    if (server_id !== undefined) {\n",
       "      // Clean up Bokeh references\n",
       "      var cmd = \"from bokeh.io.state import curstate; print(curstate().uuid_to_server['\" + server_id + \"'].get_sessions()[0].document.roots[0]._id)\";\n",
       "      cell.notebook.kernel.execute(cmd, {\n",
       "        iopub: {\n",
       "          output: function(msg) {\n",
       "            var id = msg.content.text.trim();\n",
       "            if (id in Bokeh.index) {\n",
       "              Bokeh.index[id].model.document.clear();\n",
       "              delete Bokeh.index[id];\n",
       "            }\n",
       "          }\n",
       "        }\n",
       "      });\n",
       "      // Destroy server and session\n",
       "      var cmd = \"import bokeh.io.notebook as ion; ion.destroy_server('\" + server_id + \"')\";\n",
       "      cell.notebook.kernel.execute(cmd);\n",
       "    }\n",
       "  }\n",
       "\n",
       "  /**\n",
       "   * Handle when a new output is added\n",
       "   */\n",
       "  function handleAddOutput(event, handle) {\n",
       "    var output_area = handle.output_area;\n",
       "    var output = handle.output;\n",
       "\n",
       "    // limit handleAddOutput to display_data with EXEC_MIME_TYPE content only\n",
       "    if ((output.output_type != \"display_data\") || (!output.data.hasOwnProperty(EXEC_MIME_TYPE))) {\n",
       "      return\n",
       "    }\n",
       "\n",
       "    var toinsert = output_area.element.find(\".\" + CLASS_NAME.split(' ')[0]);\n",
       "\n",
       "    if (output.metadata[EXEC_MIME_TYPE][\"id\"] !== undefined) {\n",
       "      toinsert[toinsert.length - 1].firstChild.textContent = output.data[JS_MIME_TYPE];\n",
       "      // store reference to embed id on output_area\n",
       "      output_area._bokeh_element_id = output.metadata[EXEC_MIME_TYPE][\"id\"];\n",
       "    }\n",
       "    if (output.metadata[EXEC_MIME_TYPE][\"server_id\"] !== undefined) {\n",
       "      var bk_div = document.createElement(\"div\");\n",
       "      bk_div.innerHTML = output.data[HTML_MIME_TYPE];\n",
       "      var script_attrs = bk_div.children[0].attributes;\n",
       "      for (var i = 0; i < script_attrs.length; i++) {\n",
       "        toinsert[toinsert.length - 1].firstChild.setAttribute(script_attrs[i].name, script_attrs[i].value);\n",
       "        toinsert[toinsert.length - 1].firstChild.textContent = bk_div.children[0].textContent\n",
       "      }\n",
       "      // store reference to server id on output_area\n",
       "      output_area._bokeh_server_id = output.metadata[EXEC_MIME_TYPE][\"server_id\"];\n",
       "    }\n",
       "  }\n",
       "\n",
       "  function register_renderer(events, OutputArea) {\n",
       "\n",
       "    function append_mime(data, metadata, element) {\n",
       "      // create a DOM node to render to\n",
       "      var toinsert = this.create_output_subarea(\n",
       "        metadata,\n",
       "        CLASS_NAME,\n",
       "        EXEC_MIME_TYPE\n",
       "      );\n",
       "      this.keyboard_manager.register_events(toinsert);\n",
       "      // Render to node\n",
       "      var props = {data: data, metadata: metadata[EXEC_MIME_TYPE]};\n",
       "      render(props, toinsert[toinsert.length - 1]);\n",
       "      element.append(toinsert);\n",
       "      return toinsert\n",
       "    }\n",
       "\n",
       "    /* Handle when an output is cleared or removed */\n",
       "    events.on('clear_output.CodeCell', handleClearOutput);\n",
       "    events.on('delete.Cell', handleClearOutput);\n",
       "\n",
       "    /* Handle when a new output is added */\n",
       "    events.on('output_added.OutputArea', handleAddOutput);\n",
       "\n",
       "    /**\n",
       "     * Register the mime type and append_mime function with output_area\n",
       "     */\n",
       "    OutputArea.prototype.register_mime_type(EXEC_MIME_TYPE, append_mime, {\n",
       "      /* Is output safe? */\n",
       "      safe: true,\n",
       "      /* Index of renderer in `output_area.display_order` */\n",
       "      index: 0\n",
       "    });\n",
       "  }\n",
       "\n",
       "  // register the mime type if in Jupyter Notebook environment and previously unregistered\n",
       "  if (root.Jupyter !== undefined) {\n",
       "    var events = require('base/js/events');\n",
       "    var OutputArea = require('notebook/js/outputarea').OutputArea;\n",
       "\n",
       "    if (OutputArea.prototype.mime_types().indexOf(EXEC_MIME_TYPE) == -1) {\n",
       "      register_renderer(events, OutputArea);\n",
       "    }\n",
       "  }\n",
       "\n",
       "  \n",
       "  if (typeof (root._bokeh_timeout) === \"undefined\" || force === true) {\n",
       "    root._bokeh_timeout = Date.now() + 5000;\n",
       "    root._bokeh_failed_load = false;\n",
       "  }\n",
       "\n",
       "  var NB_LOAD_WARNING = {'data': {'text/html':\n",
       "     \"<div style='background-color: #fdd'>\\n\"+\n",
       "     \"<p>\\n\"+\n",
       "     \"BokehJS does not appear to have successfully loaded. If loading BokehJS from CDN, this \\n\"+\n",
       "     \"may be due to a slow or bad network connection. Possible fixes:\\n\"+\n",
       "     \"</p>\\n\"+\n",
       "     \"<ul>\\n\"+\n",
       "     \"<li>re-rerun `output_notebook()` to attempt to load from CDN again, or</li>\\n\"+\n",
       "     \"<li>use INLINE resources instead, as so:</li>\\n\"+\n",
       "     \"</ul>\\n\"+\n",
       "     \"<code>\\n\"+\n",
       "     \"from bokeh.resources import INLINE\\n\"+\n",
       "     \"output_notebook(resources=INLINE)\\n\"+\n",
       "     \"</code>\\n\"+\n",
       "     \"</div>\"}};\n",
       "\n",
       "  function display_loaded() {\n",
       "    var el = document.getElementById(\"1349\");\n",
       "    if (el != null) {\n",
       "      el.textContent = \"BokehJS is loading...\";\n",
       "    }\n",
       "    if (root.Bokeh !== undefined) {\n",
       "      if (el != null) {\n",
       "        el.textContent = \"BokehJS \" + root.Bokeh.version + \" successfully loaded.\";\n",
       "      }\n",
       "    } else if (Date.now() < root._bokeh_timeout) {\n",
       "      setTimeout(display_loaded, 100)\n",
       "    }\n",
       "  }\n",
       "\n",
       "\n",
       "  function run_callbacks() {\n",
       "    try {\n",
       "      root._bokeh_onload_callbacks.forEach(function(callback) {\n",
       "        if (callback != null)\n",
       "          callback();\n",
       "      });\n",
       "    } finally {\n",
       "      delete root._bokeh_onload_callbacks\n",
       "    }\n",
       "    console.debug(\"Bokeh: all callbacks have finished\");\n",
       "  }\n",
       "\n",
       "  function load_libs(css_urls, js_urls, callback) {\n",
       "    if (css_urls == null) css_urls = [];\n",
       "    if (js_urls == null) js_urls = [];\n",
       "\n",
       "    root._bokeh_onload_callbacks.push(callback);\n",
       "    if (root._bokeh_is_loading > 0) {\n",
       "      console.debug(\"Bokeh: BokehJS is being loaded, scheduling callback at\", now());\n",
       "      return null;\n",
       "    }\n",
       "    if (js_urls == null || js_urls.length === 0) {\n",
       "      run_callbacks();\n",
       "      return null;\n",
       "    }\n",
       "    console.debug(\"Bokeh: BokehJS not loaded, scheduling load and callback at\", now());\n",
       "    root._bokeh_is_loading = css_urls.length + js_urls.length;\n",
       "\n",
       "    function on_load() {\n",
       "      root._bokeh_is_loading--;\n",
       "      if (root._bokeh_is_loading === 0) {\n",
       "        console.debug(\"Bokeh: all BokehJS libraries/stylesheets loaded\");\n",
       "        run_callbacks()\n",
       "      }\n",
       "    }\n",
       "\n",
       "    function on_error() {\n",
       "      console.error(\"failed to load \" + url);\n",
       "    }\n",
       "\n",
       "    for (var i = 0; i < css_urls.length; i++) {\n",
       "      var url = css_urls[i];\n",
       "      const element = document.createElement(\"link\");\n",
       "      element.onload = on_load;\n",
       "      element.onerror = on_error;\n",
       "      element.rel = \"stylesheet\";\n",
       "      element.type = \"text/css\";\n",
       "      element.href = url;\n",
       "      console.debug(\"Bokeh: injecting link tag for BokehJS stylesheet: \", url);\n",
       "      document.body.appendChild(element);\n",
       "    }\n",
       "\n",
       "    const hashes = {\"https://cdn.bokeh.org/bokeh/release/bokeh-2.0.2.min.js\": \"ufR9RFnRs6lniiaFvtJziE0YeidtAgBRH6ux2oUItHw5WTvE1zuk9uzhUU/FJXDp\", \"https://cdn.bokeh.org/bokeh/release/bokeh-widgets-2.0.2.min.js\": \"8QM/PGWBT+IssZuRcDcjzwIh1mkOmJSoNMmyYDZbCfXJg3Ap1lEvdVgFuSAwhb/J\", \"https://cdn.bokeh.org/bokeh/release/bokeh-tables-2.0.2.min.js\": \"Jm8cH3Rg0P6UeZhVY5cLy1WzKajUT9KImCY+76hEqrcJt59/d8GPvFHjCkYgnSIn\", \"https://cdn.bokeh.org/bokeh/release/bokeh-gl-2.0.2.min.js\": \"Ozhzj+SI7ywm74aOI/UajcWz+C0NjsPunEVyVIrxzYkB+jA+2tUw8x5xJCbVtK5I\"};\n",
       "\n",
       "    for (var i = 0; i < js_urls.length; i++) {\n",
       "      var url = js_urls[i];\n",
       "      var element = document.createElement('script');\n",
       "      element.onload = on_load;\n",
       "      element.onerror = on_error;\n",
       "      element.async = false;\n",
       "      element.src = url;\n",
       "      if (url in hashes) {\n",
       "        element.crossOrigin = \"anonymous\";\n",
       "        element.integrity = \"sha384-\" + hashes[url];\n",
       "      }\n",
       "      console.debug(\"Bokeh: injecting script tag for BokehJS library: \", url);\n",
       "      document.head.appendChild(element);\n",
       "    }\n",
       "  };\n",
       "\n",
       "  function inject_raw_css(css) {\n",
       "    const element = document.createElement(\"style\");\n",
       "    element.appendChild(document.createTextNode(css));\n",
       "    document.body.appendChild(element);\n",
       "  }\n",
       "\n",
       "  \n",
       "  var js_urls = [\"https://cdn.bokeh.org/bokeh/release/bokeh-2.0.2.min.js\", \"https://cdn.bokeh.org/bokeh/release/bokeh-widgets-2.0.2.min.js\", \"https://cdn.bokeh.org/bokeh/release/bokeh-tables-2.0.2.min.js\", \"https://cdn.bokeh.org/bokeh/release/bokeh-gl-2.0.2.min.js\"];\n",
       "  var css_urls = [];\n",
       "  \n",
       "\n",
       "  var inline_js = [\n",
       "    function(Bokeh) {\n",
       "      Bokeh.set_log_level(\"info\");\n",
       "    },\n",
       "    function(Bokeh) {\n",
       "    \n",
       "    \n",
       "    }\n",
       "  ];\n",
       "\n",
       "  function run_inline_js() {\n",
       "    \n",
       "    if (root.Bokeh !== undefined || force === true) {\n",
       "      \n",
       "    for (var i = 0; i < inline_js.length; i++) {\n",
       "      inline_js[i].call(root, root.Bokeh);\n",
       "    }\n",
       "    if (force === true) {\n",
       "        display_loaded();\n",
       "      }} else if (Date.now() < root._bokeh_timeout) {\n",
       "      setTimeout(run_inline_js, 100);\n",
       "    } else if (!root._bokeh_failed_load) {\n",
       "      console.log(\"Bokeh: BokehJS failed to load within specified timeout.\");\n",
       "      root._bokeh_failed_load = true;\n",
       "    } else if (force !== true) {\n",
       "      var cell = $(document.getElementById(\"1349\")).parents('.cell').data().cell;\n",
       "      cell.output_area.append_execute_result(NB_LOAD_WARNING)\n",
       "    }\n",
       "\n",
       "  }\n",
       "\n",
       "  if (root._bokeh_is_loading === 0) {\n",
       "    console.debug(\"Bokeh: BokehJS loaded, going straight to plotting\");\n",
       "    run_inline_js();\n",
       "  } else {\n",
       "    load_libs(css_urls, js_urls, function() {\n",
       "      console.debug(\"Bokeh: BokehJS plotting callback run at\", now());\n",
       "      run_inline_js();\n",
       "    });\n",
       "  }\n",
       "}(window));"
      ],
      "application/vnd.bokehjs_load.v0+json": "\n(function(root) {\n  function now() {\n    return new Date();\n  }\n\n  var force = true;\n\n  if (typeof root._bokeh_onload_callbacks === \"undefined\" || force === true) {\n    root._bokeh_onload_callbacks = [];\n    root._bokeh_is_loading = undefined;\n  }\n\n  \n\n  \n  if (typeof (root._bokeh_timeout) === \"undefined\" || force === true) {\n    root._bokeh_timeout = Date.now() + 5000;\n    root._bokeh_failed_load = false;\n  }\n\n  var NB_LOAD_WARNING = {'data': {'text/html':\n     \"<div style='background-color: #fdd'>\\n\"+\n     \"<p>\\n\"+\n     \"BokehJS does not appear to have successfully loaded. If loading BokehJS from CDN, this \\n\"+\n     \"may be due to a slow or bad network connection. Possible fixes:\\n\"+\n     \"</p>\\n\"+\n     \"<ul>\\n\"+\n     \"<li>re-rerun `output_notebook()` to attempt to load from CDN again, or</li>\\n\"+\n     \"<li>use INLINE resources instead, as so:</li>\\n\"+\n     \"</ul>\\n\"+\n     \"<code>\\n\"+\n     \"from bokeh.resources import INLINE\\n\"+\n     \"output_notebook(resources=INLINE)\\n\"+\n     \"</code>\\n\"+\n     \"</div>\"}};\n\n  function display_loaded() {\n    var el = document.getElementById(\"1349\");\n    if (el != null) {\n      el.textContent = \"BokehJS is loading...\";\n    }\n    if (root.Bokeh !== undefined) {\n      if (el != null) {\n        el.textContent = \"BokehJS \" + root.Bokeh.version + \" successfully loaded.\";\n      }\n    } else if (Date.now() < root._bokeh_timeout) {\n      setTimeout(display_loaded, 100)\n    }\n  }\n\n\n  function run_callbacks() {\n    try {\n      root._bokeh_onload_callbacks.forEach(function(callback) {\n        if (callback != null)\n          callback();\n      });\n    } finally {\n      delete root._bokeh_onload_callbacks\n    }\n    console.debug(\"Bokeh: all callbacks have finished\");\n  }\n\n  function load_libs(css_urls, js_urls, callback) {\n    if (css_urls == null) css_urls = [];\n    if (js_urls == null) js_urls = [];\n\n    root._bokeh_onload_callbacks.push(callback);\n    if (root._bokeh_is_loading > 0) {\n      console.debug(\"Bokeh: BokehJS is being loaded, scheduling callback at\", now());\n      return null;\n    }\n    if (js_urls == null || js_urls.length === 0) {\n      run_callbacks();\n      return null;\n    }\n    console.debug(\"Bokeh: BokehJS not loaded, scheduling load and callback at\", now());\n    root._bokeh_is_loading = css_urls.length + js_urls.length;\n\n    function on_load() {\n      root._bokeh_is_loading--;\n      if (root._bokeh_is_loading === 0) {\n        console.debug(\"Bokeh: all BokehJS libraries/stylesheets loaded\");\n        run_callbacks()\n      }\n    }\n\n    function on_error() {\n      console.error(\"failed to load \" + url);\n    }\n\n    for (var i = 0; i < css_urls.length; i++) {\n      var url = css_urls[i];\n      const element = document.createElement(\"link\");\n      element.onload = on_load;\n      element.onerror = on_error;\n      element.rel = \"stylesheet\";\n      element.type = \"text/css\";\n      element.href = url;\n      console.debug(\"Bokeh: injecting link tag for BokehJS stylesheet: \", url);\n      document.body.appendChild(element);\n    }\n\n    const hashes = {\"https://cdn.bokeh.org/bokeh/release/bokeh-2.0.2.min.js\": \"ufR9RFnRs6lniiaFvtJziE0YeidtAgBRH6ux2oUItHw5WTvE1zuk9uzhUU/FJXDp\", \"https://cdn.bokeh.org/bokeh/release/bokeh-widgets-2.0.2.min.js\": \"8QM/PGWBT+IssZuRcDcjzwIh1mkOmJSoNMmyYDZbCfXJg3Ap1lEvdVgFuSAwhb/J\", \"https://cdn.bokeh.org/bokeh/release/bokeh-tables-2.0.2.min.js\": \"Jm8cH3Rg0P6UeZhVY5cLy1WzKajUT9KImCY+76hEqrcJt59/d8GPvFHjCkYgnSIn\", \"https://cdn.bokeh.org/bokeh/release/bokeh-gl-2.0.2.min.js\": \"Ozhzj+SI7ywm74aOI/UajcWz+C0NjsPunEVyVIrxzYkB+jA+2tUw8x5xJCbVtK5I\"};\n\n    for (var i = 0; i < js_urls.length; i++) {\n      var url = js_urls[i];\n      var element = document.createElement('script');\n      element.onload = on_load;\n      element.onerror = on_error;\n      element.async = false;\n      element.src = url;\n      if (url in hashes) {\n        element.crossOrigin = \"anonymous\";\n        element.integrity = \"sha384-\" + hashes[url];\n      }\n      console.debug(\"Bokeh: injecting script tag for BokehJS library: \", url);\n      document.head.appendChild(element);\n    }\n  };\n\n  function inject_raw_css(css) {\n    const element = document.createElement(\"style\");\n    element.appendChild(document.createTextNode(css));\n    document.body.appendChild(element);\n  }\n\n  \n  var js_urls = [\"https://cdn.bokeh.org/bokeh/release/bokeh-2.0.2.min.js\", \"https://cdn.bokeh.org/bokeh/release/bokeh-widgets-2.0.2.min.js\", \"https://cdn.bokeh.org/bokeh/release/bokeh-tables-2.0.2.min.js\", \"https://cdn.bokeh.org/bokeh/release/bokeh-gl-2.0.2.min.js\"];\n  var css_urls = [];\n  \n\n  var inline_js = [\n    function(Bokeh) {\n      Bokeh.set_log_level(\"info\");\n    },\n    function(Bokeh) {\n    \n    \n    }\n  ];\n\n  function run_inline_js() {\n    \n    if (root.Bokeh !== undefined || force === true) {\n      \n    for (var i = 0; i < inline_js.length; i++) {\n      inline_js[i].call(root, root.Bokeh);\n    }\n    if (force === true) {\n        display_loaded();\n      }} else if (Date.now() < root._bokeh_timeout) {\n      setTimeout(run_inline_js, 100);\n    } else if (!root._bokeh_failed_load) {\n      console.log(\"Bokeh: BokehJS failed to load within specified timeout.\");\n      root._bokeh_failed_load = true;\n    } else if (force !== true) {\n      var cell = $(document.getElementById(\"1349\")).parents('.cell').data().cell;\n      cell.output_area.append_execute_result(NB_LOAD_WARNING)\n    }\n\n  }\n\n  if (root._bokeh_is_loading === 0) {\n    console.debug(\"Bokeh: BokehJS loaded, going straight to plotting\");\n    run_inline_js();\n  } else {\n    load_libs(css_urls, js_urls, function() {\n      console.debug(\"Bokeh: BokehJS plotting callback run at\", now());\n      run_inline_js();\n    });\n  }\n}(window));"
     },
     "metadata": {},
     "output_type": "display_data"
    }
   ],
   "source": [
    "import numpy as np\n",
    "import pandas as pd\n",
    "\n",
    "import matplotlib.pyplot as plt\n",
    "import seaborn as sns\n",
    "#from bokeh.io import show, output_file\n",
    "#from bokeh.plotting import figure\n",
    "from sklearn.preprocessing import StandardScaler\n",
    "import os\n",
    "\n",
    "import bokeh\n",
    "from bokeh.plotting import figure, output_notebook, show\n",
    "\n",
    "import bokeh.io\n",
    "# this is here only for completeness to clarify where\n",
    "# the methods are nested (you probably already imported this earlier)\n",
    "\n",
    "\n",
    "bokeh.io.reset_output()\n",
    "bokeh.io.output_notebook()"
   ]
  },
  {
   "cell_type": "code",
   "execution_count": 2,
   "metadata": {},
   "outputs": [],
   "source": [
    "df = pd.read_csv(\"../ENIGMA_InterPro/InterPro_GO_summaries/go_aggregated_4.1_mixed_updated_ERZ652362_wheader.tsv\", sep=\"\\t\", header=0)#, index_col=0)"
   ]
  },
  {
   "cell_type": "code",
   "execution_count": 3,
   "metadata": {
    "scrolled": true
   },
   "outputs": [
    {
     "data": {
      "text/html": [
       "<div>\n",
       "<style scoped>\n",
       "    .dataframe tbody tr th:only-of-type {\n",
       "        vertical-align: middle;\n",
       "    }\n",
       "\n",
       "    .dataframe tbody tr th {\n",
       "        vertical-align: top;\n",
       "    }\n",
       "\n",
       "    .dataframe thead th {\n",
       "        text-align: right;\n",
       "    }\n",
       "</style>\n",
       "<table border=\"1\" class=\"dataframe\">\n",
       "  <thead>\n",
       "    <tr style=\"text-align: right;\">\n",
       "      <th></th>\n",
       "      <th>Unnamed: 0</th>\n",
       "      <th>id</th>\n",
       "      <th>study_id</th>\n",
       "      <th>sample_id</th>\n",
       "      <th>biome</th>\n",
       "      <th>exptype</th>\n",
       "      <th>version</th>\n",
       "      <th>GO:0043130</th>\n",
       "      <th>GO:0055074</th>\n",
       "      <th>GO:0055117</th>\n",
       "      <th>...</th>\n",
       "      <th>GO:0019357</th>\n",
       "      <th>GO:0006527</th>\n",
       "      <th>GO:0004114</th>\n",
       "      <th>GO:0046423</th>\n",
       "      <th>GO:0034194</th>\n",
       "      <th>GO:0032183</th>\n",
       "      <th>GO:0007618</th>\n",
       "      <th>GO:0030097</th>\n",
       "      <th>GO:0004520</th>\n",
       "      <th>GO:0033739</th>\n",
       "    </tr>\n",
       "  </thead>\n",
       "  <tbody>\n",
       "    <tr>\n",
       "      <th>0</th>\n",
       "      <td>20850</td>\n",
       "      <td>ERZ652362</td>\n",
       "      <td>MGYS00003619</td>\n",
       "      <td>SRS1719142</td>\n",
       "      <td>root:Host-associated:Human:Digestive system:La...</td>\n",
       "      <td>assembly</td>\n",
       "      <td>4.1</td>\n",
       "      <td>0</td>\n",
       "      <td>0</td>\n",
       "      <td>0</td>\n",
       "      <td>...</td>\n",
       "      <td>3</td>\n",
       "      <td>2</td>\n",
       "      <td>1</td>\n",
       "      <td>0</td>\n",
       "      <td>0</td>\n",
       "      <td>0</td>\n",
       "      <td>0</td>\n",
       "      <td>0</td>\n",
       "      <td>12</td>\n",
       "      <td>6</td>\n",
       "    </tr>\n",
       "  </tbody>\n",
       "</table>\n",
       "<p>1 rows × 4409 columns</p>\n",
       "</div>"
      ],
      "text/plain": [
       "   Unnamed: 0         id      study_id   sample_id  \\\n",
       "0       20850  ERZ652362  MGYS00003619  SRS1719142   \n",
       "\n",
       "                                               biome   exptype  version  \\\n",
       "0  root:Host-associated:Human:Digestive system:La...  assembly      4.1   \n",
       "\n",
       "   GO:0043130  GO:0055074  GO:0055117  ...  GO:0019357  GO:0006527  \\\n",
       "0           0           0           0  ...           3           2   \n",
       "\n",
       "   GO:0004114  GO:0046423  GO:0034194  GO:0032183  GO:0007618  GO:0030097  \\\n",
       "0           1           0           0           0           0           0   \n",
       "\n",
       "   GO:0004520  GO:0033739  \n",
       "0          12           6  \n",
       "\n",
       "[1 rows x 4409 columns]"
      ]
     },
     "execution_count": 3,
     "metadata": {},
     "output_type": "execute_result"
    }
   ],
   "source": [
    "df"
   ]
  },
  {
   "cell_type": "code",
   "execution_count": 4,
   "metadata": {},
   "outputs": [
    {
     "data": {
      "text/html": [
       "<div>\n",
       "<style scoped>\n",
       "    .dataframe tbody tr th:only-of-type {\n",
       "        vertical-align: middle;\n",
       "    }\n",
       "\n",
       "    .dataframe tbody tr th {\n",
       "        vertical-align: top;\n",
       "    }\n",
       "\n",
       "    .dataframe thead th {\n",
       "        text-align: right;\n",
       "    }\n",
       "</style>\n",
       "<table border=\"1\" class=\"dataframe\">\n",
       "  <thead>\n",
       "    <tr style=\"text-align: right;\">\n",
       "      <th></th>\n",
       "      <th>0</th>\n",
       "    </tr>\n",
       "  </thead>\n",
       "  <tbody>\n",
       "    <tr>\n",
       "      <th>GO:0043130</th>\n",
       "      <td>0</td>\n",
       "    </tr>\n",
       "    <tr>\n",
       "      <th>GO:0055074</th>\n",
       "      <td>0</td>\n",
       "    </tr>\n",
       "    <tr>\n",
       "      <th>GO:0055117</th>\n",
       "      <td>0</td>\n",
       "    </tr>\n",
       "    <tr>\n",
       "      <th>GO:0046933</th>\n",
       "      <td>81</td>\n",
       "    </tr>\n",
       "    <tr>\n",
       "      <th>GO:0006302</th>\n",
       "      <td>2</td>\n",
       "    </tr>\n",
       "    <tr>\n",
       "      <th>...</th>\n",
       "      <td>...</td>\n",
       "    </tr>\n",
       "    <tr>\n",
       "      <th>GO:0032183</th>\n",
       "      <td>0</td>\n",
       "    </tr>\n",
       "    <tr>\n",
       "      <th>GO:0007618</th>\n",
       "      <td>0</td>\n",
       "    </tr>\n",
       "    <tr>\n",
       "      <th>GO:0030097</th>\n",
       "      <td>0</td>\n",
       "    </tr>\n",
       "    <tr>\n",
       "      <th>GO:0004520</th>\n",
       "      <td>12</td>\n",
       "    </tr>\n",
       "    <tr>\n",
       "      <th>GO:0033739</th>\n",
       "      <td>6</td>\n",
       "    </tr>\n",
       "  </tbody>\n",
       "</table>\n",
       "<p>4402 rows × 1 columns</p>\n",
       "</div>"
      ],
      "text/plain": [
       "             0\n",
       "GO:0043130   0\n",
       "GO:0055074   0\n",
       "GO:0055117   0\n",
       "GO:0046933  81\n",
       "GO:0006302   2\n",
       "...         ..\n",
       "GO:0032183   0\n",
       "GO:0007618   0\n",
       "GO:0030097   0\n",
       "GO:0004520  12\n",
       "GO:0033739   6\n",
       "\n",
       "[4402 rows x 1 columns]"
      ]
     },
     "execution_count": 4,
     "metadata": {},
     "output_type": "execute_result"
    }
   ],
   "source": [
    "df_mgnify = df.T\n",
    "df_mgnify = df_mgnify.iloc[7:]\n",
    "df_mgnify"
   ]
  },
  {
   "cell_type": "code",
   "execution_count": 5,
   "metadata": {},
   "outputs": [],
   "source": [
    "df_new = pd.read_csv(\"../ENIGMA_InterPro/InterPro_GO_summaries/ERZ652362_FASTA.InterProScan.tsv.out\", sep=\",\", header=None, index_col=0)"
   ]
  },
  {
   "cell_type": "code",
   "execution_count": 6,
   "metadata": {},
   "outputs": [
    {
     "data": {
      "text/html": [
       "<div>\n",
       "<style scoped>\n",
       "    .dataframe tbody tr th:only-of-type {\n",
       "        vertical-align: middle;\n",
       "    }\n",
       "\n",
       "    .dataframe tbody tr th {\n",
       "        vertical-align: top;\n",
       "    }\n",
       "\n",
       "    .dataframe thead th {\n",
       "        text-align: right;\n",
       "    }\n",
       "</style>\n",
       "<table border=\"1\" class=\"dataframe\">\n",
       "  <thead>\n",
       "    <tr style=\"text-align: right;\">\n",
       "      <th></th>\n",
       "      <th>1</th>\n",
       "      <th>2</th>\n",
       "      <th>3</th>\n",
       "    </tr>\n",
       "    <tr>\n",
       "      <th>0</th>\n",
       "      <th></th>\n",
       "      <th></th>\n",
       "      <th></th>\n",
       "    </tr>\n",
       "  </thead>\n",
       "  <tbody>\n",
       "    <tr>\n",
       "      <th>GO:0055085</th>\n",
       "      <td>transmembrane transport</td>\n",
       "      <td>biological_process</td>\n",
       "      <td>1166</td>\n",
       "    </tr>\n",
       "    <tr>\n",
       "      <th>GO:0006355</th>\n",
       "      <td>regulation of transcription, DNA-templated</td>\n",
       "      <td>biological_process</td>\n",
       "      <td>1027</td>\n",
       "    </tr>\n",
       "    <tr>\n",
       "      <th>GO:0005975</th>\n",
       "      <td>carbohydrate metabolic process</td>\n",
       "      <td>biological_process</td>\n",
       "      <td>944</td>\n",
       "    </tr>\n",
       "    <tr>\n",
       "      <th>GO:0000160</th>\n",
       "      <td>phosphorelay signal transduction system</td>\n",
       "      <td>biological_process</td>\n",
       "      <td>438</td>\n",
       "    </tr>\n",
       "    <tr>\n",
       "      <th>GO:0007165</th>\n",
       "      <td>signal transduction</td>\n",
       "      <td>biological_process</td>\n",
       "      <td>343</td>\n",
       "    </tr>\n",
       "    <tr>\n",
       "      <th>...</th>\n",
       "      <td>...</td>\n",
       "      <td>...</td>\n",
       "      <td>...</td>\n",
       "    </tr>\n",
       "    <tr>\n",
       "      <th>GO:0050511</th>\n",
       "      <td>undecaprenyldiphospho-muramoylpentapeptide bet...</td>\n",
       "      <td>molecular_function</td>\n",
       "      <td>1</td>\n",
       "    </tr>\n",
       "    <tr>\n",
       "      <th>GO:0050567</th>\n",
       "      <td>glutaminyl-tRNA synthase (glutamine-hydrolyzin...</td>\n",
       "      <td>molecular_function</td>\n",
       "      <td>1</td>\n",
       "    </tr>\n",
       "    <tr>\n",
       "      <th>GO:0051266</th>\n",
       "      <td>sirohydrochlorin ferrochelatase activity</td>\n",
       "      <td>molecular_function</td>\n",
       "      <td>1</td>\n",
       "    </tr>\n",
       "    <tr>\n",
       "      <th>GO:0051741</th>\n",
       "      <td>2-methyl-6-phytyl-1,4-benzoquinone methyltrans...</td>\n",
       "      <td>molecular_function</td>\n",
       "      <td>1</td>\n",
       "    </tr>\n",
       "    <tr>\n",
       "      <th>GO:0070204</th>\n",
       "      <td>2-succinyl-5-enolpyruvyl-6-hydroxy-3-cyclohexe...</td>\n",
       "      <td>molecular_function</td>\n",
       "      <td>1</td>\n",
       "    </tr>\n",
       "  </tbody>\n",
       "</table>\n",
       "<p>1446 rows × 3 columns</p>\n",
       "</div>"
      ],
      "text/plain": [
       "                                                            1  \\\n",
       "0                                                               \n",
       "GO:0055085                            transmembrane transport   \n",
       "GO:0006355         regulation of transcription, DNA-templated   \n",
       "GO:0005975                     carbohydrate metabolic process   \n",
       "GO:0000160            phosphorelay signal transduction system   \n",
       "GO:0007165                                signal transduction   \n",
       "...                                                       ...   \n",
       "GO:0050511  undecaprenyldiphospho-muramoylpentapeptide bet...   \n",
       "GO:0050567  glutaminyl-tRNA synthase (glutamine-hydrolyzin...   \n",
       "GO:0051266           sirohydrochlorin ferrochelatase activity   \n",
       "GO:0051741  2-methyl-6-phytyl-1,4-benzoquinone methyltrans...   \n",
       "GO:0070204  2-succinyl-5-enolpyruvyl-6-hydroxy-3-cyclohexe...   \n",
       "\n",
       "                             2     3  \n",
       "0                                     \n",
       "GO:0055085  biological_process  1166  \n",
       "GO:0006355  biological_process  1027  \n",
       "GO:0005975  biological_process   944  \n",
       "GO:0000160  biological_process   438  \n",
       "GO:0007165  biological_process   343  \n",
       "...                        ...   ...  \n",
       "GO:0050511  molecular_function     1  \n",
       "GO:0050567  molecular_function     1  \n",
       "GO:0051266  molecular_function     1  \n",
       "GO:0051741  molecular_function     1  \n",
       "GO:0070204  molecular_function     1  \n",
       "\n",
       "[1446 rows x 3 columns]"
      ]
     },
     "execution_count": 6,
     "metadata": {},
     "output_type": "execute_result"
    }
   ],
   "source": [
    "df_new"
   ]
  },
  {
   "cell_type": "code",
   "execution_count": 8,
   "metadata": {},
   "outputs": [
    {
     "name": "stdout",
     "output_type": "stream",
     "text": [
      "5848\n",
      "4474\n"
     ]
    },
    {
     "data": {
      "text/plain": [
       "array(['GO:0000001', 'GO:0000002', 'GO:0000011', ..., 'GO:2001033',\n",
       "       'GO:2001070', 'GO:2001256'], dtype=object)"
      ]
     },
     "execution_count": 8,
     "metadata": {},
     "output_type": "execute_result"
    }
   ],
   "source": [
    "x = df_mgnify.index.values\n",
    "y = df_new.index.values\n",
    "\n",
    "xy = np.concatenate((x, y), axis=None)\n",
    "print(len(xy))\n",
    "xy = np.unique(np.concatenate((x, y), axis=None))\n",
    "print(len(xy))\n",
    "\n",
    "xy.sort()\n",
    "xy"
   ]
  },
  {
   "cell_type": "code",
   "execution_count": 9,
   "metadata": {},
   "outputs": [
    {
     "name": "stdout",
     "output_type": "stream",
     "text": [
      "4402\n",
      "1446\n"
     ]
    }
   ],
   "source": [
    "revindices = np.where(np.in1d(x, xy))[0]\n",
    "revindices2 = np.where(np.in1d(y, xy))[0]\n",
    "print(len(revindices))\n",
    "print(len(revindices2))"
   ]
  },
  {
   "cell_type": "code",
   "execution_count": 25,
   "metadata": {},
   "outputs": [
    {
     "name": "stdout",
     "output_type": "stream",
     "text": [
      "4402\n",
      "1446\n"
     ]
    }
   ],
   "source": [
    "indices = np.where(np.in1d(xy, x))[0]\n",
    "indices2 = np.where(np.in1d(xy, y))[0]\n",
    "print(len(indices))\n",
    "print(len(indices2))"
   ]
  },
  {
   "cell_type": "code",
   "execution_count": 26,
   "metadata": {},
   "outputs": [
    {
     "data": {
      "text/plain": [
       "array(['GO:0000001', 'GO:0000002', 'GO:0000011', ..., 'GO:2001033',\n",
       "       'GO:2001070', 'GO:2001256'], dtype=object)"
      ]
     },
     "execution_count": 26,
     "metadata": {},
     "output_type": "execute_result"
    }
   ],
   "source": [
    "xy[indices]"
   ]
  },
  {
   "cell_type": "code",
   "execution_count": 27,
   "metadata": {},
   "outputs": [
    {
     "data": {
      "text/plain": [
       "array(['GO:0000015', 'GO:0000030', 'GO:0000034', ..., 'GO:1990610',\n",
       "       'GO:1990961', 'GO:2001070'], dtype=object)"
      ]
     },
     "execution_count": 27,
     "metadata": {},
     "output_type": "execute_result"
    }
   ],
   "source": [
    "xy[indices2]"
   ]
  },
  {
   "cell_type": "code",
   "execution_count": 28,
   "metadata": {},
   "outputs": [
    {
     "data": {
      "text/plain": [
       "array([   0,    1,    2, ..., 4471, 4472, 4473])"
      ]
     },
     "execution_count": 28,
     "metadata": {},
     "output_type": "execute_result"
    }
   ],
   "source": [
    "indices"
   ]
  },
  {
   "cell_type": "code",
   "execution_count": 29,
   "metadata": {},
   "outputs": [
    {
     "data": {
      "text/plain": [
       "array([   5,    6,    7, ..., 4459, 4463, 4472])"
      ]
     },
     "execution_count": 29,
     "metadata": {},
     "output_type": "execute_result"
    }
   ],
   "source": [
    "indices2"
   ]
  },
  {
   "cell_type": "code",
   "execution_count": 147,
   "metadata": {},
   "outputs": [
    {
     "name": "stdout",
     "output_type": "stream",
     "text": [
      "4474\n",
      "4474\n"
     ]
    },
    {
     "data": {
      "text/plain": [
       "1441"
      ]
     },
     "execution_count": 147,
     "metadata": {},
     "output_type": "execute_result"
    }
   ],
   "source": [
    "x_data = np.empty([len(xy)], dtype='int')\n",
    "y_data = np.empty([len(xy)], dtype='int')\n",
    "print(len(x_data))\n",
    "print(len(y_data))\n",
    "\n",
    "x_data[indices] = df_mgnify[0].values\n",
    "y_data[indices2] = df_new.loc[:,3].values\n",
    "\n",
    "sum(np.equal(y_data,x_data))"
   ]
  },
  {
   "cell_type": "code",
   "execution_count": 115,
   "metadata": {},
   "outputs": [
    {
     "name": "stdout",
     "output_type": "stream",
     "text": [
      "4474\n",
      "4474\n",
      "1418\n",
      "2413\n"
     ]
    }
   ],
   "source": [
    "x_data = np.empty([len(xy)], dtype='float64')\n",
    "y_data = np.empty([len(xy)], dtype='float64')\n",
    "print(len(x_data))\n",
    "print(len(y_data))\n",
    "\n",
    "x_data[indices] = df_mgnify[0].values\n",
    "y_data[indices2] = df_new.loc[:,3].values\n",
    "print(np.count_nonzero(x_data))\n",
    "print(np.count_nonzero(y_data))\n",
    "\n"
   ]
  },
  {
   "cell_type": "code",
   "execution_count": 116,
   "metadata": {},
   "outputs": [
    {
     "data": {
      "text/plain": [
       "3053"
      ]
     },
     "execution_count": 116,
     "metadata": {},
     "output_type": "execute_result"
    }
   ],
   "source": [
    "sum(np.equal(y_data,x_data))\n"
   ]
  },
  {
   "cell_type": "code",
   "execution_count": 109,
   "metadata": {},
   "outputs": [
    {
     "name": "stdout",
     "output_type": "stream",
     "text": [
      "2325.0\n",
      "3.723644457712373e+280\n",
      "2325.1030926687345\n",
      "3.723644457712373e+280\n",
      "4474\n",
      "4474\n"
     ]
    }
   ],
   "source": [
    "#add jitter\n",
    "low = 0.1\n",
    "hi = 0.4\n",
    "size1 = len(indices)\n",
    "size2 = len(indices2)\n",
    "samp1 = np.asarray([np.random.uniform(low,hi) for _ in range(size1)])\n",
    "samp2 = np.asarray([np.random.uniform(low,hi) for _ in range(size2)])\n",
    "\n",
    "print(np.max(x_data))\n",
    "print(np.max(y_data))\n",
    "\n",
    "x_data[indices] = np.add(x_data[indices], samp1)\n",
    "y_data[indices2] = np.add(y_data[indices2], samp2)\n",
    "\n",
    "print(np.max(x_data))\n",
    "print(np.max(y_data))\n",
    "\n",
    "print(len(x_data))\n",
    "print(len(y_data))"
   ]
  },
  {
   "cell_type": "code",
   "execution_count": 110,
   "metadata": {},
   "outputs": [
    {
     "data": {
      "text/plain": [
       "2728"
      ]
     },
     "execution_count": 110,
     "metadata": {},
     "output_type": "execute_result"
    }
   ],
   "source": [
    "sum(np.greater(y_data,x_data))"
   ]
  },
  {
   "cell_type": "code",
   "execution_count": 111,
   "metadata": {},
   "outputs": [
    {
     "data": {
      "text/plain": [
       "1746"
      ]
     },
     "execution_count": 111,
     "metadata": {},
     "output_type": "execute_result"
    }
   ],
   "source": [
    "sum(np.less(y_data,x_data))"
   ]
  },
  {
   "cell_type": "code",
   "execution_count": 72,
   "metadata": {},
   "outputs": [
    {
     "data": {
      "text/plain": [
       "4402"
      ]
     },
     "execution_count": 72,
     "metadata": {},
     "output_type": "execute_result"
    }
   ],
   "source": [
    "len(samp1)"
   ]
  },
  {
   "cell_type": "code",
   "execution_count": 73,
   "metadata": {},
   "outputs": [
    {
     "data": {
      "text/plain": [
       "numpy.ndarray"
      ]
     },
     "execution_count": 73,
     "metadata": {},
     "output_type": "execute_result"
    }
   ],
   "source": [
    "type(samp1)"
   ]
  },
  {
   "cell_type": "code",
   "execution_count": 74,
   "metadata": {},
   "outputs": [
    {
     "data": {
      "text/plain": [
       "array([], dtype=float64)"
      ]
     },
     "execution_count": 74,
     "metadata": {},
     "output_type": "execute_result"
    }
   ],
   "source": [
    "samp1[samp1< 0]"
   ]
  },
  {
   "cell_type": "code",
   "execution_count": 75,
   "metadata": {},
   "outputs": [
    {
     "data": {
      "text/plain": [
       "4402"
      ]
     },
     "execution_count": 75,
     "metadata": {},
     "output_type": "execute_result"
    }
   ],
   "source": [
    "len(x_data[indices])"
   ]
  },
  {
   "cell_type": "code",
   "execution_count": 76,
   "metadata": {},
   "outputs": [
    {
     "data": {
      "text/plain": [
       "array([ 0.17961366,  0.25008226,  0.33172494, ...,  0.38799627,\n",
       "       12.35545924,  6.13889089])"
      ]
     },
     "execution_count": 76,
     "metadata": {},
     "output_type": "execute_result"
    }
   ],
   "source": [
    "x_data[indices] "
   ]
  },
  {
   "cell_type": "code",
   "execution_count": 77,
   "metadata": {},
   "outputs": [
    {
     "data": {
      "text/plain": [
       "array([1.16628176e+03, 1.02725208e+03, 9.44346386e+02, ...,\n",
       "       1.23116775e+00, 1.25931792e+00, 1.11626243e+00])"
      ]
     },
     "execution_count": 77,
     "metadata": {},
     "output_type": "execute_result"
    }
   ],
   "source": [
    "y_data[indices2]"
   ]
  },
  {
   "cell_type": "code",
   "execution_count": 78,
   "metadata": {},
   "outputs": [
    {
     "data": {
      "text/plain": [
       "array([], dtype=float64)"
      ]
     },
     "execution_count": 78,
     "metadata": {},
     "output_type": "execute_result"
    }
   ],
   "source": [
    "y_data[y_data< 0]"
   ]
  },
  {
   "cell_type": "code",
   "execution_count": 95,
   "metadata": {},
   "outputs": [
    {
     "data": {
      "text/plain": [
       "array([], dtype=float64)"
      ]
     },
     "execution_count": 95,
     "metadata": {},
     "output_type": "execute_result"
    }
   ],
   "source": [
    "y_data[y_data - x_data == 0]"
   ]
  },
  {
   "cell_type": "code",
   "execution_count": 79,
   "metadata": {},
   "outputs": [
    {
     "data": {
      "text/plain": [
       "0\n",
       "GO:0055085    1166\n",
       "GO:0006355    1027\n",
       "GO:0005975     944\n",
       "GO:0000160     438\n",
       "GO:0007165     343\n",
       "              ... \n",
       "GO:0050511       1\n",
       "GO:0050567       1\n",
       "GO:0051266       1\n",
       "GO:0051741       1\n",
       "GO:0070204       1\n",
       "Name: 3, Length: 1446, dtype: int64"
      ]
     },
     "execution_count": 79,
     "metadata": {},
     "output_type": "execute_result"
    }
   ],
   "source": [
    "df_new.loc[:,3]"
   ]
  },
  {
   "cell_type": "code",
   "execution_count": 80,
   "metadata": {
    "scrolled": true
   },
   "outputs": [
    {
     "data": {
      "text/plain": [
       "GO:0043130     0\n",
       "GO:0055074     0\n",
       "GO:0055117     0\n",
       "GO:0046933    81\n",
       "GO:0006302     2\n",
       "              ..\n",
       "GO:0032183     0\n",
       "GO:0007618     0\n",
       "GO:0030097     0\n",
       "GO:0004520    12\n",
       "GO:0033739     6\n",
       "Name: 0, Length: 4402, dtype: object"
      ]
     },
     "execution_count": 80,
     "metadata": {},
     "output_type": "execute_result"
    }
   ],
   "source": [
    "df_mgnify[0]"
   ]
  },
  {
   "cell_type": "code",
   "execution_count": 81,
   "metadata": {},
   "outputs": [
    {
     "name": "stdout",
     "output_type": "stream",
     "text": [
      "4474\n",
      "4474\n"
     ]
    }
   ],
   "source": [
    "print(len(x_data))\n",
    "print(len(y_data))"
   ]
  },
  {
   "cell_type": "code",
   "execution_count": 86,
   "metadata": {},
   "outputs": [
    {
     "data": {
      "image/png": "[encoded data removed]",
      "text/plain": [
       "<Figure size 432x288 with 1 Axes>"
      ]
     },
     "metadata": {
      "needs_background": "light"
     },
     "output_type": "display_data"
    }
   ],
   "source": [
    "plt.scatter(x_data, y_data, alpha=0.5)\n",
    "plt.show()"
   ]
  },
  {
   "cell_type": "code",
   "execution_count": 92,
   "metadata": {},
   "outputs": [
    {
     "name": "stderr",
     "output_type": "stream",
     "text": [
      "/Users/marcin/Library/Python/3.7/lib/python/site-packages/ipykernel_launcher.py:1: RuntimeWarning: invalid value encountered in log10\n",
      "  \"\"\"Entry point for launching an IPython kernel.\n"
     ]
    },
    {
     "data": {
      "text/plain": [
       "(array([  3.,  18.,  97., 514., 925.,  27.,  91.,  64.,  21.,  10.]),\n",
       " array([-4.1834115 , -3.42844993, -2.67348836, -1.91852679, -1.16356523,\n",
       "        -0.40860366,  0.34635791,  1.10131947,  1.85628104,  2.61124261,\n",
       "         3.36620417]),\n",
       " <BarContainer object of 10 artists>)"
      ]
     },
     "execution_count": 92,
     "metadata": {},
     "output_type": "execute_result"
    },
    {
     "data": {
      "image/png": "[encoded data removed]",
      "text/plain": [
       "<Figure size 432x288 with 1 Axes>"
      ]
     },
     "metadata": {
      "needs_background": "light"
     },
     "output_type": "display_data"
    }
   ],
   "source": [
    "plt.hist(np.log10(x_data-y_data))"
   ]
  },
  {
   "cell_type": "code",
   "execution_count": 93,
   "metadata": {},
   "outputs": [
    {
     "data": {
      "text/html": [
       "\n",
       "\n",
       "\n",
       "\n",
       "\n",
       "\n",
       "  <div class=\"bk-root\" id=\"945ae91e-6e8b-4868-b550-10cb757895a2\" data-root-id=\"2160\"></div>\n"
      ]
     },
     "metadata": {},
     "output_type": "display_data"
    },
    {
     "data": {
      "application/javascript": [
       "(function(root) {\n",
       "  function embed_document(root) {\n",
       "    \n",
       "  var docs_json = {\"76a50587-d3ed-41d9-a387-71f449300ff5\":{\"roots\":{\"references\":[{\"attributes\":{\"below\":[{\"id\":\"2169\"}],\"center\":[{\"id\":\"2172\"},{\"id\":\"2176\"}],\"left\":[{\"id\":\"2173\"}],\"plot_height\":500,\"plot_width\":500,\"renderers\":[{\"id\":\"2194\"}],\"title\":{\"id\":\"2257\"},\"toolbar\":{\"id\":\"2184\"},\"x_range\":{\"id\":\"2161\"},\"x_scale\":{\"id\":\"2165\"},\"y_range\":{\"id\":\"2163\"},\"y_scale\":{\"id\":\"2167\"}},\"id\":\"2160\",\"subtype\":\"Figure\",\"type\":\"Plot\"},{\"attributes\":{\"axis\":{\"id\":\"2173\"},\"dimension\":1,\"ticker\":null},\"id\":\"2176\",\"type\":\"Grid\"},{\"attributes\":{},\"id\":\"2258\",\"type\":\"BasicTickFormatter\"},{\"attributes\":{},\"id\":\"2181\",\"type\":\"ResetTool\"},{\"attributes\":{\"source\":{\"id\":\"2191\"}},\"id\":\"2195\",\"type\":\"CDSView\"},{\"attributes\":{\"bottom_units\":\"screen\",\"fill_alpha\":0.5,\"fill_color\":\"lightgrey\",\"left_units\":\"screen\",\"level\":\"overlay\",\"line_alpha\":1.0,\"line_color\":\"black\",\"line_dash\":[4,4],\"line_width\":2,\"render_mode\":\"css\",\"right_units\":\"screen\",\"top_units\":\"screen\"},\"id\":\"2183\",\"type\":\"BoxAnnotation\"},{\"attributes\":{\"data_source\":{\"id\":\"2191\"},\"glyph\":{\"id\":\"2192\"},\"hover_glyph\":null,\"muted_glyph\":null,\"nonselection_glyph\":{\"id\":\"2193\"},\"selection_glyph\":null,\"view\":{\"id\":\"2195\"}},\"id\":\"2194\",\"type\":\"GlyphRenderer\"},{\"attributes\":{\"fill_alpha\":{\"value\":0.1},\"fill_color\":{\"value\":\"blue\"},\"line_alpha\":{\"value\":0.1},\"line_color\":{\"value\":\"blue\"},\"size\":{\"units\":\"screen\",\"value\":3},\"x\":{\"field\":\"x\"},\"y\":{\"field\":\"y\"}},\"id\":\"2193\",\"type\":\"Circle\"},{\"attributes\":{\"text\":\"\"},\"id\":\"2257\",\"type\":\"Title\"},{\"attributes\":{\"overlay\":{\"id\":\"2183\"}},\"id\":\"2179\",\"type\":\"BoxZoomTool\"},{\"attributes\":{},\"id\":\"2161\",\"type\":\"DataRange1d\"},{\"attributes\":{},\"id\":\"2167\",\"type\":\"LinearScale\"},{\"attributes\":{},\"id\":\"2174\",\"type\":\"BasicTicker\"},{\"attributes\":{\"data\":{\"x\":{\"__ndarray__\":\"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\",\"dtype\":\"float64\",\"shape\":[4474]},\"y\":{\"__ndarray__\":\"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\",\"dtype\":\"float64\",\"shape\":[4474]}},\"selected\":{\"id\":\"2264\"},\"selection_policy\":{\"id\":\"2263\"}},\"id\":\"2191\",\"type\":\"ColumnDataSource\"},{\"attributes\":{},\"id\":\"2260\",\"type\":\"BasicTickFormatter\"},{\"attributes\":{\"axis\":{\"id\":\"2169\"},\"ticker\":null},\"id\":\"2172\",\"type\":\"Grid\"},{\"attributes\":{\"active_drag\":\"auto\",\"active_inspect\":\"auto\",\"active_multi\":null,\"active_scroll\":\"auto\",\"active_tap\":\"auto\",\"tools\":[{\"id\":\"2177\"},{\"id\":\"2178\"},{\"id\":\"2179\"},{\"id\":\"2180\"},{\"id\":\"2181\"},{\"id\":\"2182\"}]},\"id\":\"2184\",\"type\":\"Toolbar\"},{\"attributes\":{\"formatter\":{\"id\":\"2258\"},\"ticker\":{\"id\":\"2170\"}},\"id\":\"2169\",\"type\":\"LinearAxis\"},{\"attributes\":{},\"id\":\"2165\",\"type\":\"LinearScale\"},{\"attributes\":{},\"id\":\"2264\",\"type\":\"Selection\"},{\"attributes\":{},\"id\":\"2182\",\"type\":\"HelpTool\"},{\"attributes\":{},\"id\":\"2163\",\"type\":\"DataRange1d\"},{\"attributes\":{},\"id\":\"2170\",\"type\":\"BasicTicker\"},{\"attributes\":{},\"id\":\"2178\",\"type\":\"WheelZoomTool\"},{\"attributes\":{\"formatter\":{\"id\":\"2260\"},\"ticker\":{\"id\":\"2174\"}},\"id\":\"2173\",\"type\":\"LinearAxis\"},{\"attributes\":{},\"id\":\"2177\",\"type\":\"PanTool\"},{\"attributes\":{},\"id\":\"2180\",\"type\":\"SaveTool\"},{\"attributes\":{\"fill_alpha\":{\"value\":0.5},\"fill_color\":{\"value\":\"blue\"},\"line_color\":{\"value\":\"blue\"},\"size\":{\"units\":\"screen\",\"value\":3},\"x\":{\"field\":\"x\"},\"y\":{\"field\":\"y\"}},\"id\":\"2192\",\"type\":\"Circle\"},{\"attributes\":{},\"id\":\"2263\",\"type\":\"UnionRenderers\"}],\"root_ids\":[\"2160\"]},\"title\":\"Bokeh Application\",\"version\":\"2.0.2\"}};\n",
       "  var render_items = [{\"docid\":\"76a50587-d3ed-41d9-a387-71f449300ff5\",\"root_ids\":[\"2160\"],\"roots\":{\"2160\":\"945ae91e-6e8b-4868-b550-10cb757895a2\"}}];\n",
       "  root.Bokeh.embed.embed_items_notebook(docs_json, render_items);\n",
       "\n",
       "  }\n",
       "  if (root.Bokeh !== undefined) {\n",
       "    embed_document(root);\n",
       "  } else {\n",
       "    var attempts = 0;\n",
       "    var timer = setInterval(function(root) {\n",
       "      if (root.Bokeh !== undefined) {\n",
       "        clearInterval(timer);\n",
       "        embed_document(root);\n",
       "      } else {\n",
       "        attempts++;\n",
       "        if (attempts > 100) {\n",
       "          clearInterval(timer);\n",
       "          console.log(\"Bokeh: ERROR: Unable to run BokehJS code because BokehJS library is missing\");\n",
       "        }\n",
       "      }\n",
       "    }, 10, root)\n",
       "  }\n",
       "})(window);"
      ],
      "application/vnd.bokehjs_exec.v0+json": ""
     },
     "metadata": {
      "application/vnd.bokehjs_exec.v0+json": {
       "id": "2160"
      }
     },
     "output_type": "display_data"
    }
   ],
   "source": [
    "a=figure(plot_width = 500, plot_height=500)\n",
    "#key = [1,2]\n",
    "#value = [2,2]\n",
    "#a.circle(key, value,size=3,color='red', fill_alpha = 0.5)\n",
    "a.circle(x_data, y_data, size=3, color = 'blue', fill_alpha = 0.5)\n",
    "\n",
    "# show the plot.\n",
    "show(a)"
   ]
  },
  {
   "cell_type": "code",
   "execution_count": null,
   "metadata": {},
   "outputs": [],
   "source": []
  }
 ],
 "metadata": {
  "kernelspec": {
   "display_name": "Python 3",
   "language": "python",
   "name": "python3"
  },
  "language_info": {
   "codemirror_mode": {
    "name": "ipython",
    "version": 3
   },
   "file_extension": ".py",
   "mimetype": "text/x-python",
   "name": "python",
   "nbconvert_exporter": "python",
   "pygments_lexer": "ipython3",
   "version": "3.7.0b4"
  }
 },
 "nbformat": 4,
 "nbformat_minor": 2
}
