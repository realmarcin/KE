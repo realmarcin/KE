{
 "cells": [
  {
   "cell_type": "code",
   "execution_count": 62,
   "metadata": {},
   "outputs": [],
   "source": [
    "import numpy as np\n",
    "import pandas as pd\n",
    "\n",
    "import matplotlib.pyplot as plt\n",
    "import seaborn as sns\n",
    "#from bokeh.io import show, output_file\n",
    "#from bokeh.plotting import figure\n",
    "from sklearn.preprocessing import StandardScaler\n",
    "import os"
   ]
  },
  {
   "cell_type": "code",
   "execution_count": 63,
   "metadata": {},
   "outputs": [],
   "source": [
    "df = pd.read_csv(\"merge_data_before_normalization.tsv\", sep=\"\\t\", header=0)#, index_col=0)"
   ]
  },
  {
   "cell_type": "code",
   "execution_count": 67,
   "metadata": {},
   "outputs": [
    {
     "data": {
      "text/html": [
       "<div>\n",
       "<style scoped>\n",
       "    .dataframe tbody tr th:only-of-type {\n",
       "        vertical-align: middle;\n",
       "    }\n",
       "\n",
       "    .dataframe tbody tr th {\n",
       "        vertical-align: top;\n",
       "    }\n",
       "\n",
       "    .dataframe thead th {\n",
       "        text-align: right;\n",
       "    }\n",
       "</style>\n",
       "<table border=\"1\" class=\"dataframe\">\n",
       "  <thead>\n",
       "    <tr style=\"text-align: right;\">\n",
       "      <th></th>\n",
       "      <th>label</th>\n",
       "      <th>dataset</th>\n",
       "      <th>GO:0000001</th>\n",
       "      <th>GO:0000002</th>\n",
       "      <th>GO:0000011</th>\n",
       "      <th>GO:0000015</th>\n",
       "      <th>GO:0000030</th>\n",
       "      <th>GO:0000034</th>\n",
       "      <th>GO:0000041</th>\n",
       "      <th>GO:0000045</th>\n",
       "      <th>...</th>\n",
       "      <th>GO:1902208</th>\n",
       "      <th>GO:1902209</th>\n",
       "      <th>GO:1902751</th>\n",
       "      <th>GO:1905515</th>\n",
       "      <th>GO:1990426</th>\n",
       "      <th>GO:2000028</th>\n",
       "      <th>GO:2000146</th>\n",
       "      <th>GO:2000401</th>\n",
       "      <th>GO:2000479</th>\n",
       "      <th>GO:2001070</th>\n",
       "    </tr>\n",
       "  </thead>\n",
       "  <tbody>\n",
       "    <tr>\n",
       "      <th>0</th>\n",
       "      <td>EB271-02-01</td>\n",
       "      <td>Enigma</td>\n",
       "      <td>2.0</td>\n",
       "      <td>10.0</td>\n",
       "      <td>9.0</td>\n",
       "      <td>28.0</td>\n",
       "      <td>164.0</td>\n",
       "      <td>130.0</td>\n",
       "      <td>786.0</td>\n",
       "      <td>6.0</td>\n",
       "      <td>...</td>\n",
       "      <td>0.0</td>\n",
       "      <td>0.0</td>\n",
       "      <td>1.0</td>\n",
       "      <td>0.0</td>\n",
       "      <td>0.0</td>\n",
       "      <td>12.0</td>\n",
       "      <td>22.0</td>\n",
       "      <td>0.0</td>\n",
       "      <td>9.0</td>\n",
       "      <td>3.0</td>\n",
       "    </tr>\n",
       "    <tr>\n",
       "      <th>1</th>\n",
       "      <td>EB271-02-02</td>\n",
       "      <td>Enigma</td>\n",
       "      <td>5.0</td>\n",
       "      <td>11.0</td>\n",
       "      <td>10.0</td>\n",
       "      <td>32.0</td>\n",
       "      <td>86.0</td>\n",
       "      <td>86.0</td>\n",
       "      <td>755.0</td>\n",
       "      <td>22.0</td>\n",
       "      <td>...</td>\n",
       "      <td>0.0</td>\n",
       "      <td>0.0</td>\n",
       "      <td>0.0</td>\n",
       "      <td>0.0</td>\n",
       "      <td>4.0</td>\n",
       "      <td>0.0</td>\n",
       "      <td>15.0</td>\n",
       "      <td>0.0</td>\n",
       "      <td>5.0</td>\n",
       "      <td>0.0</td>\n",
       "    </tr>\n",
       "    <tr>\n",
       "      <th>2</th>\n",
       "      <td>EB271-02-03</td>\n",
       "      <td>Enigma</td>\n",
       "      <td>5.0</td>\n",
       "      <td>21.0</td>\n",
       "      <td>10.0</td>\n",
       "      <td>18.0</td>\n",
       "      <td>56.0</td>\n",
       "      <td>45.0</td>\n",
       "      <td>419.0</td>\n",
       "      <td>17.0</td>\n",
       "      <td>...</td>\n",
       "      <td>0.0</td>\n",
       "      <td>0.0</td>\n",
       "      <td>1.0</td>\n",
       "      <td>3.0</td>\n",
       "      <td>0.0</td>\n",
       "      <td>0.0</td>\n",
       "      <td>3.0</td>\n",
       "      <td>0.0</td>\n",
       "      <td>6.0</td>\n",
       "      <td>0.0</td>\n",
       "    </tr>\n",
       "    <tr>\n",
       "      <th>3</th>\n",
       "      <td>EB271-03-01</td>\n",
       "      <td>Enigma</td>\n",
       "      <td>3.0</td>\n",
       "      <td>27.0</td>\n",
       "      <td>9.0</td>\n",
       "      <td>51.0</td>\n",
       "      <td>132.0</td>\n",
       "      <td>131.0</td>\n",
       "      <td>902.0</td>\n",
       "      <td>2.0</td>\n",
       "      <td>...</td>\n",
       "      <td>0.0</td>\n",
       "      <td>0.0</td>\n",
       "      <td>6.0</td>\n",
       "      <td>0.0</td>\n",
       "      <td>0.0</td>\n",
       "      <td>0.0</td>\n",
       "      <td>23.0</td>\n",
       "      <td>0.0</td>\n",
       "      <td>5.0</td>\n",
       "      <td>2.0</td>\n",
       "    </tr>\n",
       "    <tr>\n",
       "      <th>4</th>\n",
       "      <td>EB271-03-02</td>\n",
       "      <td>Enigma</td>\n",
       "      <td>6.0</td>\n",
       "      <td>10.0</td>\n",
       "      <td>9.0</td>\n",
       "      <td>46.0</td>\n",
       "      <td>137.0</td>\n",
       "      <td>99.0</td>\n",
       "      <td>879.0</td>\n",
       "      <td>21.0</td>\n",
       "      <td>...</td>\n",
       "      <td>0.0</td>\n",
       "      <td>0.0</td>\n",
       "      <td>0.0</td>\n",
       "      <td>1.0</td>\n",
       "      <td>1.0</td>\n",
       "      <td>0.0</td>\n",
       "      <td>31.0</td>\n",
       "      <td>1.0</td>\n",
       "      <td>7.0</td>\n",
       "      <td>2.0</td>\n",
       "    </tr>\n",
       "  </tbody>\n",
       "</table>\n",
       "<p>5 rows × 3010 columns</p>\n",
       "</div>"
      ],
      "text/plain": [
       "         label dataset  GO:0000001  GO:0000002  GO:0000011  GO:0000015  \\\n",
       "0  EB271-02-01  Enigma         2.0        10.0         9.0        28.0   \n",
       "1  EB271-02-02  Enigma         5.0        11.0        10.0        32.0   \n",
       "2  EB271-02-03  Enigma         5.0        21.0        10.0        18.0   \n",
       "3  EB271-03-01  Enigma         3.0        27.0         9.0        51.0   \n",
       "4  EB271-03-02  Enigma         6.0        10.0         9.0        46.0   \n",
       "\n",
       "   GO:0000030  GO:0000034  GO:0000041  GO:0000045  ...  GO:1902208  \\\n",
       "0       164.0       130.0       786.0         6.0  ...         0.0   \n",
       "1        86.0        86.0       755.0        22.0  ...         0.0   \n",
       "2        56.0        45.0       419.0        17.0  ...         0.0   \n",
       "3       132.0       131.0       902.0         2.0  ...         0.0   \n",
       "4       137.0        99.0       879.0        21.0  ...         0.0   \n",
       "\n",
       "   GO:1902209  GO:1902751  GO:1905515  GO:1990426  GO:2000028  GO:2000146  \\\n",
       "0         0.0         1.0         0.0         0.0        12.0        22.0   \n",
       "1         0.0         0.0         0.0         4.0         0.0        15.0   \n",
       "2         0.0         1.0         3.0         0.0         0.0         3.0   \n",
       "3         0.0         6.0         0.0         0.0         0.0        23.0   \n",
       "4         0.0         0.0         1.0         1.0         0.0        31.0   \n",
       "\n",
       "   GO:2000401  GO:2000479  GO:2001070  \n",
       "0         0.0         9.0         3.0  \n",
       "1         0.0         5.0         0.0  \n",
       "2         0.0         6.0         0.0  \n",
       "3         0.0         5.0         2.0  \n",
       "4         1.0         7.0         2.0  \n",
       "\n",
       "[5 rows x 3010 columns]"
      ]
     },
     "execution_count": 67,
     "metadata": {},
     "output_type": "execute_result"
    }
   ],
   "source": [
    "df.head()"
   ]
  },
  {
   "cell_type": "code",
   "execution_count": 64,
   "metadata": {},
   "outputs": [
    {
     "data": {
      "text/plain": [
       "0                                           EB271-02-01\n",
       "1                                           EB271-02-02\n",
       "2                                           EB271-02-03\n",
       "3                                           EB271-03-01\n",
       "4                                           EB271-03-02\n",
       "5                                           EB271-03-03\n",
       "6                                           EB271-04-01\n",
       "7                                           EB271-04-02\n",
       "8                                           EB271-04-03\n",
       "9                                           EB271-04-04\n",
       "10                                          EB271-05-01\n",
       "11                                          EB271-05-02\n",
       "12                                          EB271-05-03\n",
       "13                                          EB271-05-04\n",
       "14           root:Environmental:Aquatic:Marine:Brackish\n",
       "15                         root:Engineered:Biogas plant\n",
       "16                           root:Engineered:Bioreactor\n",
       "17                         root:Host-associated:Mammals\n",
       "18                         root:Host-associated:Mammals\n",
       "19    root:Host-associated:Human:Digestive system:La...\n",
       "Name: label, dtype: object"
      ]
     },
     "execution_count": 64,
     "metadata": {},
     "output_type": "execute_result"
    }
   ],
   "source": [
    "df.label[0:20]"
   ]
  },
  {
   "cell_type": "code",
   "execution_count": 65,
   "metadata": {},
   "outputs": [],
   "source": [
    "df_new = pd.read_csv(\"../ENIGMA_InterPro/InterPro_GO_summaries/AA_S_11_Prodigal_proteins_InterProScan.tsv.out\", sep=\",\", header=None)#, index_col=0)"
   ]
  },
  {
   "cell_type": "code",
   "execution_count": 66,
   "metadata": {},
   "outputs": [
    {
     "data": {
      "text/html": [
       "<div>\n",
       "<style scoped>\n",
       "    .dataframe tbody tr th:only-of-type {\n",
       "        vertical-align: middle;\n",
       "    }\n",
       "\n",
       "    .dataframe tbody tr th {\n",
       "        vertical-align: top;\n",
       "    }\n",
       "\n",
       "    .dataframe thead th {\n",
       "        text-align: right;\n",
       "    }\n",
       "</style>\n",
       "<table border=\"1\" class=\"dataframe\">\n",
       "  <thead>\n",
       "    <tr style=\"text-align: right;\">\n",
       "      <th></th>\n",
       "      <th>0</th>\n",
       "      <th>1</th>\n",
       "      <th>2</th>\n",
       "      <th>3</th>\n",
       "    </tr>\n",
       "  </thead>\n",
       "  <tbody>\n",
       "    <tr>\n",
       "      <th>0</th>\n",
       "      <td>GO:0055085</td>\n",
       "      <td>transmembrane transport</td>\n",
       "      <td>biological_process</td>\n",
       "      <td>1897</td>\n",
       "    </tr>\n",
       "    <tr>\n",
       "      <th>1</th>\n",
       "      <td>GO:0006355</td>\n",
       "      <td>regulation of transcription, DNA-templated</td>\n",
       "      <td>biological_process</td>\n",
       "      <td>1484</td>\n",
       "    </tr>\n",
       "    <tr>\n",
       "      <th>2</th>\n",
       "      <td>GO:0006412</td>\n",
       "      <td>translation</td>\n",
       "      <td>biological_process</td>\n",
       "      <td>1130</td>\n",
       "    </tr>\n",
       "    <tr>\n",
       "      <th>3</th>\n",
       "      <td>GO:0006508</td>\n",
       "      <td>proteolysis</td>\n",
       "      <td>biological_process</td>\n",
       "      <td>729</td>\n",
       "    </tr>\n",
       "    <tr>\n",
       "      <th>4</th>\n",
       "      <td>GO:0000160</td>\n",
       "      <td>phosphorelay signal transduction system</td>\n",
       "      <td>biological_process</td>\n",
       "      <td>673</td>\n",
       "    </tr>\n",
       "    <tr>\n",
       "      <th>...</th>\n",
       "      <td>...</td>\n",
       "      <td>...</td>\n",
       "      <td>...</td>\n",
       "      <td>...</td>\n",
       "    </tr>\n",
       "    <tr>\n",
       "      <th>1605</th>\n",
       "      <td>GO:0070273</td>\n",
       "      <td>phosphatidylinositol-4-phosphate binding</td>\n",
       "      <td>molecular_function</td>\n",
       "      <td>1</td>\n",
       "    </tr>\n",
       "    <tr>\n",
       "      <th>1606</th>\n",
       "      <td>GO:0070290</td>\n",
       "      <td>N-acylphosphatidylethanolamine-specific phosph...</td>\n",
       "      <td>molecular_function</td>\n",
       "      <td>1</td>\n",
       "    </tr>\n",
       "    <tr>\n",
       "      <th>1607</th>\n",
       "      <td>GO:0097266</td>\n",
       "      <td>phenylacetyl-CoA 1,2-epoxidase activity</td>\n",
       "      <td>molecular_function</td>\n",
       "      <td>1</td>\n",
       "    </tr>\n",
       "    <tr>\n",
       "      <th>1608</th>\n",
       "      <td>GO:1904680</td>\n",
       "      <td>peptide transmembrane transporter activity</td>\n",
       "      <td>molecular_function</td>\n",
       "      <td>1</td>\n",
       "    </tr>\n",
       "    <tr>\n",
       "      <th>1609</th>\n",
       "      <td>GO:2001070</td>\n",
       "      <td>starch binding</td>\n",
       "      <td>molecular_function</td>\n",
       "      <td>1</td>\n",
       "    </tr>\n",
       "  </tbody>\n",
       "</table>\n",
       "<p>1610 rows × 4 columns</p>\n",
       "</div>"
      ],
      "text/plain": [
       "               0                                                  1  \\\n",
       "0     GO:0055085                            transmembrane transport   \n",
       "1     GO:0006355         regulation of transcription, DNA-templated   \n",
       "2     GO:0006412                                        translation   \n",
       "3     GO:0006508                                        proteolysis   \n",
       "4     GO:0000160            phosphorelay signal transduction system   \n",
       "...          ...                                                ...   \n",
       "1605  GO:0070273           phosphatidylinositol-4-phosphate binding   \n",
       "1606  GO:0070290  N-acylphosphatidylethanolamine-specific phosph...   \n",
       "1607  GO:0097266            phenylacetyl-CoA 1,2-epoxidase activity   \n",
       "1608  GO:1904680         peptide transmembrane transporter activity   \n",
       "1609  GO:2001070                                     starch binding   \n",
       "\n",
       "                       2     3  \n",
       "0     biological_process  1897  \n",
       "1     biological_process  1484  \n",
       "2     biological_process  1130  \n",
       "3     biological_process   729  \n",
       "4     biological_process   673  \n",
       "...                  ...   ...  \n",
       "1605  molecular_function     1  \n",
       "1606  molecular_function     1  \n",
       "1607  molecular_function     1  \n",
       "1608  molecular_function     1  \n",
       "1609  molecular_function     1  \n",
       "\n",
       "[1610 rows x 4 columns]"
      ]
     },
     "execution_count": 66,
     "metadata": {},
     "output_type": "execute_result"
    }
   ],
   "source": [
    "df_new"
   ]
  },
  {
   "cell_type": "code",
   "execution_count": 89,
   "metadata": {},
   "outputs": [
    {
     "data": {
      "text/plain": [
       "array([   0,    1,    2, ..., 1599, 1602, 1609])"
      ]
     },
     "execution_count": 89,
     "metadata": {},
     "output_type": "execute_result"
    }
   ],
   "source": [
    "x = df.columns.values[2:]\n",
    "y = df_new.loc[:,0].values\n",
    "lenx = len(x)\n",
    "leny = len(y)\n",
    "if(lenx < leny):\n",
    "    indices = np.where(np.in1d(x, y))[0]\n",
    "    indices2 = np.where(np.in1d(y, x))[0]\n",
    "else:\n",
    "    indices = np.where(np.in1d(y, x))[0]\n",
    "    indices2 = np.where(np.in1d(x, y))[0]\n",
    "indices"
   ]
  },
  {
   "cell_type": "code",
   "execution_count": 79,
   "metadata": {},
   "outputs": [
    {
     "data": {
      "text/plain": [
       "array([ 3,  4,  5,  8, 14, 15, 16, 17, 22, 24])"
      ]
     },
     "execution_count": 79,
     "metadata": {},
     "output_type": "execute_result"
    }
   ],
   "source": [
    "indices[0:10]"
   ]
  },
  {
   "cell_type": "code",
   "execution_count": 90,
   "metadata": {},
   "outputs": [
    {
     "name": "stdout",
     "output_type": "stream",
     "text": [
      "1362\n",
      "1362\n"
     ]
    }
   ],
   "source": [
    "if(lenx < leny):\n",
    "    x_data = df.iloc[10].values[2:][indices]\n",
    "    y_data = df_new.loc[:,3].values[indices2]\n",
    "else:\n",
    "    x_data = df.iloc[10].values[2:][indices2]\n",
    "    y_data = df_new.loc[:,3].values[indices]\n",
    "print(len(x_data))\n",
    "print(len(y_data))"
   ]
  },
  {
   "cell_type": "code",
   "execution_count": 92,
   "metadata": {},
   "outputs": [
    {
     "data": {
      "image/png": "[encoded data removed]",
      "text/plain": [
       "<Figure size 432x288 with 1 Axes>"
      ]
     },
     "metadata": {
      "needs_background": "light"
     },
     "output_type": "display_data"
    }
   ],
   "source": [
    "plt.scatter(x_data, y_data, alpha=0.5)\n",
    "plt.show()"
   ]
  }
 ],
 "metadata": {
  "kernelspec": {
   "display_name": "Python 3",
   "language": "python",
   "name": "python3"
  },
  "language_info": {
   "codemirror_mode": {
    "name": "ipython",
    "version": 3
   },
   "file_extension": ".py",
   "mimetype": "text/x-python",
   "name": "python",
   "nbconvert_exporter": "python",
   "pygments_lexer": "ipython3",
   "version": "3.7.0b4"
  }
 },
 "nbformat": 4,
 "nbformat_minor": 2
}
